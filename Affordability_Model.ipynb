{
  "nbformat": 4,
  "nbformat_minor": 0,
  "metadata": {
    "colab": {
      "provenance": [],
      "toc_visible": true
    },
    "kernelspec": {
      "name": "python3",
      "display_name": "Python 3"
    },
    "language_info": {
      "name": "python"
    }
  },
  "cells": [
    {
      "cell_type": "markdown",
      "source": [
        "This notebook contains the model implementation to validate the results"
      ],
      "metadata": {
        "id": "Ja23diPWZHFs"
      }
    },
    {
      "cell_type": "markdown",
      "source": [
        "## **Creating Train and test sets**"
      ],
      "metadata": {
        "id": "fWIfMf-KFyE7"
      }
    },
    {
      "cell_type": "code",
      "source": [# load with pandas.read_csv(<filename>)\n
        "X_train, X_test_valid, y_train, y_test_valid = train_test_split(x, y, test_size=0.33, random_state=666)\n",
        "X_test, X_valid, y_test, y_valid = train_test_split(X_test_valid, y_test_valid, test_size=0.33, random_state=666)"
      ],
      "metadata": {
        "id": "R4SAdGKVDg27"
      },
      "execution_count": null,
      "outputs": []
    },
    {
      "cell_type": "code",
      "source": [
        "X_train.shape, X_valid.shape, X_test.shape"
      ],
      "metadata": {
        "id": "G8XkRToXDgzy"
      },
      "execution_count": null,
      "outputs": []
    },
    {
      "cell_type": "markdown",
      "source": [
        "## **Training and testing the model**"
      ],
      "metadata": {
        "id": "Zp6WW1BvF2PN"
      }
    },
    {
      "cell_type": "code",
      "source": [
        "scaler = StandardScaler()\n",
        "X_train_scaled = scaler.fit_transform(X_train)\n",
        "X_valid_scaled = scaler.transform(X_valid)\n",
        "X_test_scaled = scaler.transform(X_test)\n",
        "\n",
        "ridge = RidgeCV(alphas=[0.001, 0.01, 0.1, 1, 10, 100], cv=5)\n",
        "lasso = LassoLarsCV(max_n_alphas=10000, max_iter=100000, cv=5)\n",
        "\n",
        "xgbr = XGBRegressor(early_stopping_rounds=500,\n",
        "                    learning_rate=0.1,\n",
        "                    reg_lambda=0.125,\n",
        "                    max_depth=7,\n",
        "                    min_child_weight=1,\n",
        "                    n_estimators=500,\n",
        "                    n_jobs=-1,\n",
        "                    objective='reg:squarederror',\n",
        "                    random_state=666, )\n",
        "rfr = RandomForestRegressor(n_estimators=250)\n",
        "etr = ExtraTreesRegressor(n_estimators=150)\n",
        "\n",
        "for model in (ridge, lasso , xgbr, rfr, etr):\n",
        "    if model not in (ridge, lasso):\n",
        "       _ = train_evaluate(X_train, X_valid, X_test, y_train, y_valid, y_test, model)\n",
        "    else:\n",
        "       _ = train_evaluate(X_train_scaled, X_valid_scaled, X_test_scaled, y_train, y_valid, y_test, model)"
      ],
      "metadata": {
        "id": "WWcLMfvVDgwq"
      },
      "execution_count": null,
      "outputs": []
    }
  ]
}
